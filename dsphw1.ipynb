{
 "cells": [
  {
   "cell_type": "code",
   "execution_count": 4,
   "metadata": {},
   "outputs": [
    {
     "ename": "ModuleNotFoundError",
     "evalue": "No module named 'thinkplot'",
     "output_type": "error",
     "traceback": [
      "\u001b[1;31m---------------------------------------------------------------------------\u001b[0m",
      "\u001b[1;31mModuleNotFoundError\u001b[0m                       Traceback (most recent call last)",
      "\u001b[1;32m<ipython-input-4-449968569e8d>\u001b[0m in \u001b[0;36m<module>\u001b[1;34m\u001b[0m\n\u001b[0;32m      1\u001b[0m \u001b[1;31m# [rySol]\u001b[0m\u001b[1;33m\u001b[0m\u001b[1;33m\u001b[0m\u001b[1;33m\u001b[0m\u001b[0m\n\u001b[0;32m      2\u001b[0m \u001b[1;33m\u001b[0m\u001b[0m\n\u001b[1;32m----> 3\u001b[1;33m \u001b[1;32mfrom\u001b[0m \u001b[0mthinkdsp\u001b[0m \u001b[1;32mimport\u001b[0m \u001b[0mSinusoid\u001b[0m\u001b[1;33m\u001b[0m\u001b[1;33m\u001b[0m\u001b[0m\n\u001b[0m\u001b[0;32m      4\u001b[0m \u001b[1;32mimport\u001b[0m \u001b[0mnumpy\u001b[0m \u001b[1;32mas\u001b[0m \u001b[0mnp\u001b[0m\u001b[1;33m\u001b[0m\u001b[1;33m\u001b[0m\u001b[0m\n\u001b[0;32m      5\u001b[0m \u001b[1;33m\u001b[0m\u001b[0m\n",
      "\u001b[1;32m~\\thinkdsp.py\u001b[0m in \u001b[0;36m<module>\u001b[1;34m\u001b[0m\n\u001b[0;32m     18\u001b[0m \u001b[1;32mimport\u001b[0m \u001b[0mstruct\u001b[0m\u001b[1;33m\u001b[0m\u001b[1;33m\u001b[0m\u001b[0m\n\u001b[0;32m     19\u001b[0m \u001b[1;32mimport\u001b[0m \u001b[0msubprocess\u001b[0m\u001b[1;33m\u001b[0m\u001b[1;33m\u001b[0m\u001b[0m\n\u001b[1;32m---> 20\u001b[1;33m \u001b[1;32mimport\u001b[0m \u001b[0mthinkplot\u001b[0m\u001b[1;33m\u001b[0m\u001b[1;33m\u001b[0m\u001b[0m\n\u001b[0m\u001b[0;32m     21\u001b[0m \u001b[1;32mimport\u001b[0m \u001b[0mwarnings\u001b[0m\u001b[1;33m\u001b[0m\u001b[1;33m\u001b[0m\u001b[0m\n\u001b[0;32m     22\u001b[0m \u001b[1;33m\u001b[0m\u001b[0m\n",
      "\u001b[1;31mModuleNotFoundError\u001b[0m: No module named 'thinkplot'"
     ]
    }
   ],
   "source": [
    "# [rySol]\n",
    "\n",
    "from thinkdsp import Sinusoid\n",
    "import numpy as np\n",
    "\n",
    "#\n",
    "# copy these 2 for references...\n",
    "#\n",
    "# class RyTriSignal(Sinusoid):\n",
    "# class RySqrSignal(Sinusoid):\n",
    "#\n",
    "\n",
    "#'''\n",
    "class RyTriSignal(Sinusoid):\n",
    "    \"\"\"ry Represents a triangle signal.\"\"\"\n",
    "        \n",
    "    def evaluate(self, ts):\n",
    "    \n",
    "        θ= ts * 2 * np.pi * self.freq + self.offset # 在此作橫軸之變數變換\n",
    "\n",
    "        θ= θ % (np.pi * 2) # 這一行讓 θ 周而復始，週期維持在 (2 π)\n",
    "\n",
    "        x0= θ *(-2/np.pi) +1\n",
    "        x1= θ *(+2/np.pi) -3\n",
    "\n",
    "        x= x0 * (θ<np.pi) + x1 * (θ>=np.pi) # 這一行稍微有深度！！\n",
    "\n",
    "        x= x * self.amp # 最後輸出前，再把縱軸拉到 振幅 = amp\n",
    "\n",
    "        return x\n",
    "\n",
    "class RySqrSignal(Sinusoid):\n",
    "    \"\"\"ry Represents a square signal.\"\"\"\n",
    "        \n",
    "    def evaluate(self, ts):\n",
    "    \n",
    "        θ= ts * 2 * np.pi * self.freq + self.offset # 在此作橫軸之變數變換\n",
    "\n",
    "        θ= θ % (np.pi * 2) # 這一行讓 θ 周而復始，週期維持在 (2 π)\n",
    "\n",
    "        x0= -1 #上半周 #θ *(-2/np.pi) +1\n",
    "        x1= +1 #下半周 #θ *(+2/np.pi) -3\n",
    "\n",
    "        x= x0 * (θ<np.pi) + x1 * (θ>=np.pi) # 這一行稍微有深度！！\n",
    "\n",
    "        x= x * self.amp # 最後輸出前，再把縱軸拉到 振幅 = amp\n",
    "\n",
    "        return x       \n",
    "#'''\n",
    "\n",
    "\n",
    "class RySawtoothSignal(Sinusoid):\n",
    "    \"\"\"ry Represents a sawtooth signal.\"\"\"\n",
    "        \n",
    "    def evaluate(self, ts):\n",
    "    \n",
    "        θ= ts * 2 * np.pi * self.freq + self.offset # 在此作橫軸之變數變換\n",
    "\n",
    "        θ= θ % (np.pi * 2) # 這一行讓 θ 周而復始，週期維持在 (2 π)\n",
    "\n",
    "        x= -1 + θ/np.pi # 從 -1 開始爬坡，上半週期到達　0,下半周期到達 +1 \n",
    "       \n",
    "        x= x * self.amp # 最後輸出前，再把縱軸拉到 振幅 = amp\n",
    "\n",
    "        return x"
   ]
  },
  {
   "cell_type": "code",
   "execution_count": null,
   "metadata": {},
   "outputs": [],
   "source": []
  }
 ],
 "metadata": {
  "kernelspec": {
   "display_name": "Python 3",
   "language": "python",
   "name": "python3"
  },
  "language_info": {
   "codemirror_mode": {
    "name": "ipython",
    "version": 3
   },
   "file_extension": ".py",
   "mimetype": "text/x-python",
   "name": "python",
   "nbconvert_exporter": "python",
   "pygments_lexer": "ipython3",
   "version": "3.7.6"
  }
 },
 "nbformat": 4,
 "nbformat_minor": 4
}
