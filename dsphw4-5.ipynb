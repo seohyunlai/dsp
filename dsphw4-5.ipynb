{
 "cells": [
  {
   "cell_type": "markdown",
   "metadata": {},
   "source": [
    "Exercise 5 \n",
    "The algorithm in this chapter for generating pink noise is conceptually simple but computationally expensive. There are more efficient alternatives, like the Voss-McCartney algorithm. Research this method, implement it, compute the spectrum of the result, and confirm that it has the desired relationship between power and frequency.\n",
    "\n",
    "本章中用於產生粉紅噪聲的演算法在概念上很簡單，但計算量卻很大。還有更有效的替代方法，例如Voss-McCartney演算法。研究該方法，實施該方法，計算結果的頻譜，並確認它具有所需的功率和頻率關係。"
   ]
  },
  {
   "cell_type": "code",
   "execution_count": 1,
   "metadata": {},
   "outputs": [],
   "source": [
    "import numpy as np\n",
    "import matplotlib.pyplot as plt\n",
    "\n",
    "from thinkdsp import decorate"
   ]
  },
  {
   "cell_type": "code",
   "execution_count": 2,
   "metadata": {},
   "outputs": [
    {
     "data": {
      "text/plain": [
       "array([[0.15407197, 0.60597423, 0.2365207 , 0.53817637, 0.92085148],\n",
       "       [0.67097536,        nan,        nan,        nan,        nan],\n",
       "       [0.62244606,        nan,        nan,        nan,        nan],\n",
       "       [0.23760594,        nan,        nan,        nan,        nan],\n",
       "       [0.6590533 ,        nan,        nan,        nan,        nan],\n",
       "       [0.83737477,        nan,        nan,        nan,        nan]])"
      ]
     },
     "execution_count": 2,
     "metadata": {},
     "output_type": "execute_result"
    }
   ],
   "source": [
    "#產生100x5陣列\n",
    "nrows = 100\n",
    "ncols = 5\n",
    "\n",
    "array = np.empty((nrows, ncols)) #先把陣列中的值設為空\n",
    "array.fill(np.nan)\n",
    "array[0, :] = np.random.random(ncols) # 第0行隨機給數值\n",
    "array[:, 0] = np.random.random(nrows) # 第0列隨機給數值\n",
    "array[0:6] #顯示0~6列"
   ]
  },
  {
   "cell_type": "markdown",
   "metadata": {},
   "source": [
    "下一步是選擇隨機源發生變化的位置。\n",
    "如果行數為𝑛，第一列的變化數為𝑛，第二列的變化數平均為𝑛/ 2，第三列的變化數平均為𝑛/ 4，以此類推。\n",
    "所以矩陣中的變化總數平均為2𝑛；由於其中的𝑛在第一列，其他的𝑛在矩陣的其餘部分。\n",
    "為了放置剩餘的𝑛的變化，我們從幾何分佈中生成隨機列，𝑝= 0.5。如果我們生成的值超過了邊界，我們將其設置為0（所以第一列時額外得到的）。"
   ]
  },
  {
   "cell_type": "code",
   "execution_count": 3,
   "metadata": {},
   "outputs": [
    {
     "data": {
      "text/plain": [
       "array([1, 0, 1, 1, 1, 2, 2, 1, 3, 1, 2, 4, 1, 4, 2, 2, 2, 2, 2, 2, 0, 1,\n",
       "       2, 1, 2, 1, 1, 1, 0, 4, 4, 0, 1, 1, 1, 1, 1, 1, 2, 1, 0, 1, 2, 1,\n",
       "       4, 0, 1, 1, 3, 1, 1, 1, 1, 1, 3, 0, 2, 1, 1, 1, 4, 1, 1, 2, 4, 0,\n",
       "       2, 1, 2, 2, 2, 4, 1, 3, 2, 4, 1, 2, 1, 1, 1, 3, 1, 1, 2, 1, 1, 3,\n",
       "       3, 1, 0, 3, 4, 1, 1, 1, 1, 2, 3, 2])"
      ]
     },
     "execution_count": 3,
     "metadata": {},
     "output_type": "execute_result"
    }
   ],
   "source": [
    "p = 0.5\n",
    "n = nrows #(nrows=100)\n",
    "cols = np.random.geometric(p, n) #隨機\n",
    "cols[cols >= ncols] = 0 #ncols = 5\n",
    "cols"
   ]
  },
  {
   "cell_type": "markdown",
   "metadata": {},
   "source": [
    "在每個列內，我們從均勻分佈中隨機選擇一行。理想情況下，我們會在不替換的情況下進行選擇，但在替換的情況下進行選擇會替代，更容易，這並不重要。"
   ]
  },
  {
   "cell_type": "code",
   "execution_count": 4,
   "metadata": {},
   "outputs": [
    {
     "data": {
      "text/plain": [
       "array([73, 97,  2,  0, 39, 95, 61, 82, 60, 47, 33, 75, 44, 90, 66, 93, 27,\n",
       "       35, 97, 62, 51, 21, 60, 17, 89, 83,  0, 64,  1, 51, 13, 53, 79, 30,\n",
       "       79,  2, 27, 70, 96, 92, 88, 17,  3, 44, 36, 62, 44, 53, 86, 44,  5,\n",
       "       85, 49, 78, 75, 91, 34,  2, 48, 50, 22, 74,  6, 88, 31, 67,  9, 11,\n",
       "       82, 69, 72, 99, 83, 10, 97, 86, 24, 61, 85, 22, 58, 95, 39, 91, 15,\n",
       "       16, 82, 19, 22, 21,  6,  8, 90, 88, 76, 73, 78,  6, 67, 62])"
      ]
     },
     "execution_count": 4,
     "metadata": {},
     "output_type": "execute_result"
    }
   ],
   "source": [
    "rows = np.random.randint(nrows, size=n) #n = nrows\n",
    "rows"
   ]
  },
  {
   "cell_type": "markdown",
   "metadata": {},
   "source": [
    "隨機放入值。"
   ]
  },
  {
   "cell_type": "code",
   "execution_count": 5,
   "metadata": {},
   "outputs": [
    {
     "data": {
      "text/plain": [
       "array([[0.15407197, 0.19892961, 0.2365207 , 0.53817637, 0.92085148],\n",
       "       [0.86426753,        nan,        nan,        nan,        nan],\n",
       "       [0.62244606, 0.99064513,        nan,        nan,        nan],\n",
       "       [0.23760594,        nan, 0.6494611 ,        nan,        nan],\n",
       "       [0.6590533 ,        nan,        nan,        nan,        nan],\n",
       "       [0.83737477, 0.61561547,        nan,        nan,        nan]])"
      ]
     },
     "execution_count": 5,
     "metadata": {},
     "output_type": "execute_result"
    }
   ],
   "source": [
    "array[rows, cols] = np.random.random(n)\n",
    "array[0:6]"
   ]
  },
  {
   "cell_type": "markdown",
   "metadata": {},
   "source": [
    "接下來我們要做一個零階保持來填充NaNs。\n",
    "NumPy不做這個，但Pandas做了。所以我將創建一個DataFrame。"
   ]
  },
  {
   "cell_type": "code",
   "execution_count": 6,
   "metadata": {},
   "outputs": [
    {
     "data": {
      "text/html": [
       "<div>\n",
       "<style scoped>\n",
       "    .dataframe tbody tr th:only-of-type {\n",
       "        vertical-align: middle;\n",
       "    }\n",
       "\n",
       "    .dataframe tbody tr th {\n",
       "        vertical-align: top;\n",
       "    }\n",
       "\n",
       "    .dataframe thead th {\n",
       "        text-align: right;\n",
       "    }\n",
       "</style>\n",
       "<table border=\"1\" class=\"dataframe\">\n",
       "  <thead>\n",
       "    <tr style=\"text-align: right;\">\n",
       "      <th></th>\n",
       "      <th>0</th>\n",
       "      <th>1</th>\n",
       "      <th>2</th>\n",
       "      <th>3</th>\n",
       "      <th>4</th>\n",
       "    </tr>\n",
       "  </thead>\n",
       "  <tbody>\n",
       "    <tr>\n",
       "      <th>0</th>\n",
       "      <td>0.154072</td>\n",
       "      <td>0.198930</td>\n",
       "      <td>0.236521</td>\n",
       "      <td>0.538176</td>\n",
       "      <td>0.920851</td>\n",
       "    </tr>\n",
       "    <tr>\n",
       "      <th>1</th>\n",
       "      <td>0.864268</td>\n",
       "      <td>NaN</td>\n",
       "      <td>NaN</td>\n",
       "      <td>NaN</td>\n",
       "      <td>NaN</td>\n",
       "    </tr>\n",
       "    <tr>\n",
       "      <th>2</th>\n",
       "      <td>0.622446</td>\n",
       "      <td>0.990645</td>\n",
       "      <td>NaN</td>\n",
       "      <td>NaN</td>\n",
       "      <td>NaN</td>\n",
       "    </tr>\n",
       "    <tr>\n",
       "      <th>3</th>\n",
       "      <td>0.237606</td>\n",
       "      <td>NaN</td>\n",
       "      <td>0.649461</td>\n",
       "      <td>NaN</td>\n",
       "      <td>NaN</td>\n",
       "    </tr>\n",
       "    <tr>\n",
       "      <th>4</th>\n",
       "      <td>0.659053</td>\n",
       "      <td>NaN</td>\n",
       "      <td>NaN</td>\n",
       "      <td>NaN</td>\n",
       "      <td>NaN</td>\n",
       "    </tr>\n",
       "  </tbody>\n",
       "</table>\n",
       "</div>"
      ],
      "text/plain": [
       "          0         1         2         3         4\n",
       "0  0.154072  0.198930  0.236521  0.538176  0.920851\n",
       "1  0.864268       NaN       NaN       NaN       NaN\n",
       "2  0.622446  0.990645       NaN       NaN       NaN\n",
       "3  0.237606       NaN  0.649461       NaN       NaN\n",
       "4  0.659053       NaN       NaN       NaN       NaN"
      ]
     },
     "execution_count": 6,
     "metadata": {},
     "output_type": "execute_result"
    }
   ],
   "source": [
    "import pandas as pd\n",
    "df = pd.DataFrame(array)\n",
    "df.head()"
   ]
  },
  {
   "cell_type": "markdown",
   "metadata": {},
   "source": [
    "使用fillna來沿列。"
   ]
  },
  {
   "cell_type": "code",
   "execution_count": 7,
   "metadata": {},
   "outputs": [
    {
     "data": {
      "text/html": [
       "<div>\n",
       "<style scoped>\n",
       "    .dataframe tbody tr th:only-of-type {\n",
       "        vertical-align: middle;\n",
       "    }\n",
       "\n",
       "    .dataframe tbody tr th {\n",
       "        vertical-align: top;\n",
       "    }\n",
       "\n",
       "    .dataframe thead th {\n",
       "        text-align: right;\n",
       "    }\n",
       "</style>\n",
       "<table border=\"1\" class=\"dataframe\">\n",
       "  <thead>\n",
       "    <tr style=\"text-align: right;\">\n",
       "      <th></th>\n",
       "      <th>0</th>\n",
       "      <th>1</th>\n",
       "      <th>2</th>\n",
       "      <th>3</th>\n",
       "      <th>4</th>\n",
       "    </tr>\n",
       "  </thead>\n",
       "  <tbody>\n",
       "    <tr>\n",
       "      <th>0</th>\n",
       "      <td>0.154072</td>\n",
       "      <td>0.198930</td>\n",
       "      <td>0.236521</td>\n",
       "      <td>0.538176</td>\n",
       "      <td>0.920851</td>\n",
       "    </tr>\n",
       "    <tr>\n",
       "      <th>1</th>\n",
       "      <td>0.864268</td>\n",
       "      <td>0.198930</td>\n",
       "      <td>0.236521</td>\n",
       "      <td>0.538176</td>\n",
       "      <td>0.920851</td>\n",
       "    </tr>\n",
       "    <tr>\n",
       "      <th>2</th>\n",
       "      <td>0.622446</td>\n",
       "      <td>0.990645</td>\n",
       "      <td>0.236521</td>\n",
       "      <td>0.538176</td>\n",
       "      <td>0.920851</td>\n",
       "    </tr>\n",
       "    <tr>\n",
       "      <th>3</th>\n",
       "      <td>0.237606</td>\n",
       "      <td>0.990645</td>\n",
       "      <td>0.649461</td>\n",
       "      <td>0.538176</td>\n",
       "      <td>0.920851</td>\n",
       "    </tr>\n",
       "    <tr>\n",
       "      <th>4</th>\n",
       "      <td>0.659053</td>\n",
       "      <td>0.990645</td>\n",
       "      <td>0.649461</td>\n",
       "      <td>0.538176</td>\n",
       "      <td>0.920851</td>\n",
       "    </tr>\n",
       "  </tbody>\n",
       "</table>\n",
       "</div>"
      ],
      "text/plain": [
       "          0         1         2         3         4\n",
       "0  0.154072  0.198930  0.236521  0.538176  0.920851\n",
       "1  0.864268  0.198930  0.236521  0.538176  0.920851\n",
       "2  0.622446  0.990645  0.236521  0.538176  0.920851\n",
       "3  0.237606  0.990645  0.649461  0.538176  0.920851\n",
       "4  0.659053  0.990645  0.649461  0.538176  0.920851"
      ]
     },
     "execution_count": 7,
     "metadata": {},
     "output_type": "execute_result"
    }
   ],
   "source": [
    "filled = df.fillna(method='ffill', axis=0)\n",
    "filled.head()"
   ]
  },
  {
   "cell_type": "markdown",
   "metadata": {},
   "source": [
    "把行(row)相加。"
   ]
  },
  {
   "cell_type": "code",
   "execution_count": 8,
   "metadata": {},
   "outputs": [
    {
     "data": {
      "text/plain": [
       "0    2.048550\n",
       "1    2.758746\n",
       "2    3.308640\n",
       "3    3.336740\n",
       "4    3.758187\n",
       "dtype: float64"
      ]
     },
     "execution_count": 8,
     "metadata": {},
     "output_type": "execute_result"
    }
   ],
   "source": [
    "total = filled.sum(axis=1)\n",
    "total.head()"
   ]
  },
  {
   "cell_type": "markdown",
   "metadata": {},
   "source": [
    "把結果放進wave中。"
   ]
  },
  {
   "cell_type": "code",
   "execution_count": 9,
   "metadata": {},
   "outputs": [
    {
     "data": {
      "image/png": "[encoded data removed]",
      "text/plain": [
       "<Figure size 432x288 with 1 Axes>"
      ]
     },
     "metadata": {
      "needs_background": "light"
     },
     "output_type": "display_data"
    }
   ],
   "source": [
    "from thinkdsp import Wave\n",
    "wave = Wave(total.values)\n",
    "wave.plot()"
   ]
  },
  {
   "cell_type": "markdown",
   "metadata": {},
   "source": [
    "這是一個函數的整個過程：\n",
    "產生pink noise利用Voss-McCartney演算法。\n",
    "nrows代表有多少值要產生，rcols代表多少隨機來源的數量被添加，returns代表NumPy陣列"
   ]
  },
  {
   "cell_type": "code",
   "execution_count": 10,
   "metadata": {},
   "outputs": [],
   "source": [
    "def voss(nrows, ncols=16):\n",
    "    \n",
    "    array = np.empty((nrows, ncols))\n",
    "    array.fill(np.nan)\n",
    "    array[0, :] = np.random.random(ncols)\n",
    "    array[:, 0] = np.random.random(nrows)\n",
    "    \n",
    "    # 總變化數為nrows\n",
    "    n = nrows\n",
    "    cols = np.random.geometric(0.5, n)\n",
    "    cols[cols >= ncols] = 0\n",
    "    rows = np.random.randint(nrows, size=n)\n",
    "    array[rows, cols] = np.random.random(n)\n",
    "\n",
    "    df = pd.DataFrame(array)\n",
    "    df.fillna(method='ffill', axis=0, inplace=True)\n",
    "    total = df.sum(axis=1)\n",
    "\n",
    "    return total.values"
   ]
  },
  {
   "cell_type": "markdown",
   "metadata": {},
   "source": [
    "要測試它我生成11025個值："
   ]
  },
  {
   "cell_type": "code",
   "execution_count": 11,
   "metadata": {},
   "outputs": [
    {
     "data": {
      "text/plain": [
       "array([8.15895397, 8.2997196 , 8.00153552, ..., 8.28627499, 8.92138245,\n",
       "       7.98335178])"
      ]
     },
     "execution_count": 11,
     "metadata": {},
     "output_type": "execute_result"
    }
   ],
   "source": [
    "ys = voss(11025)\n",
    "ys"
   ]
  },
  {
   "cell_type": "markdown",
   "metadata": {},
   "source": [
    "把它放進wave中。\n",
    "unbias 讓平均值移動到 0。\n",
    "normalize 調整上下值到想要的最大振幅的值。"
   ]
  },
  {
   "cell_type": "code",
   "execution_count": 12,
   "metadata": {},
   "outputs": [],
   "source": [
    "wave = Wave(ys)\n",
    "wave.unbias()\n",
    "wave.normalize()"
   ]
  },
  {
   "cell_type": "code",
   "execution_count": 13,
   "metadata": {},
   "outputs": [
    {
     "data": {
      "image/png": "[encoded data removed]",
      "text/plain": [
       "<Figure size 432x288 with 1 Axes>"
      ]
     },
     "metadata": {
      "needs_background": "light"
     },
     "output_type": "display_data"
    }
   ],
   "source": [
    "wave.plot()"
   ]
  },
  {
   "cell_type": "markdown",
   "metadata": {},
   "source": [
    "不出所料，它的隨機性比白噪聲更像白噪聲，但比紅噪聲看起來更隨機。"
   ]
  },
  {
   "cell_type": "code",
   "execution_count": 14,
   "metadata": {},
   "outputs": [
    {
     "data": {
      "text/html": [
       "\n",
       "                <audio  controls=\"controls\" >\n",
       "                    <source src=\"data:audio/wav;base64,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\" type=\"audio/wav\" />\n",
       "                    Your browser does not support the audio element.\n",
       "                </audio>\n",
       "              "
      ],
      "text/plain": [
       "<IPython.lib.display.Audio object>"
      ]
     },
     "execution_count": 14,
     "metadata": {},
     "output_type": "execute_result"
    }
   ],
   "source": [
    "wave.make_audio()"
   ]
  },
  {
   "cell_type": "markdown",
   "metadata": {},
   "source": [
    "功率譜。"
   ]
  },
  {
   "cell_type": "code",
   "execution_count": 15,
   "metadata": {},
   "outputs": [
    {
     "data": {
      "image/png": "[encoded data removed]",
      "text/plain": [
       "<Figure size 432x288 with 1 Axes>"
      ]
     },
     "metadata": {
      "needs_background": "light"
     },
     "output_type": "display_data"
    }
   ],
   "source": [
    "spectrum = wave.make_spectrum()\n",
    "spectrum.hs[0] = 0\n",
    "loglog = dict(xscale='log', yscale='log')\n",
    "spectrum.plot_power()\n",
    "decorate(xlabel='Frequency (Hz)',\n",
    "         **loglog)"
   ]
  },
  {
   "cell_type": "code",
   "execution_count": 16,
   "metadata": {},
   "outputs": [
    {
     "data": {
      "text/plain": [
       "-1.0305216865823326"
      ]
     },
     "execution_count": 16,
     "metadata": {},
     "output_type": "execute_result"
    }
   ],
   "source": [
    "spectrum.estimate_slope().slope"
   ]
  },
  {
   "cell_type": "markdown",
   "metadata": {},
   "source": [
    "估計的斜率接近-1。"
   ]
  },
  {
   "cell_type": "markdown",
   "metadata": {},
   "source": [
    "通過生成更長的樣本，我們可以更好地了解平均功率譜："
   ]
  },
  {
   "cell_type": "code",
   "execution_count": 17,
   "metadata": {},
   "outputs": [
    {
     "data": {
      "text/plain": [
       "6553600"
      ]
     },
     "execution_count": 17,
     "metadata": {},
     "output_type": "execute_result"
    }
   ],
   "source": [
    "seg_length = 64 * 1024\n",
    "iters = 100\n",
    "wave = Wave(voss(seg_length * iters))\n",
    "len(wave)"
   ]
  },
  {
   "cell_type": "markdown",
   "metadata": {},
   "source": [
    "並使用Barlett's method來計算平均值。\n",
    "make_spectrum 使用 rfft，rfft 的結果我叫它為 hs，它是一個numpy提供的複數的 array，可用複數形式來表示波裡面每個頻率成份的振幅與相位移。 每個在 hs 的值，都對應到一個頻率成份。 "
   ]
  },
  {
   "cell_type": "code",
   "execution_count": 19,
   "metadata": {},
   "outputs": [],
   "source": [
    "from thinkdsp import Spectrum\n",
    "\n",
    "def bartlett_method(wave, seg_length=512, win_flag=True):\n",
    "    \"\"\"Estimates the power spectrum of a noise wave.\n",
    "    \n",
    "    wave: Wave\n",
    "    seg_length: segment length\n",
    "    \"\"\"\n",
    "    # make a spectrogram and extract the spectrums\n",
    "    spectro = wave.make_spectrogram(seg_length, win_flag)\n",
    "    spectrums = spectro.spec_map.values()\n",
    "    \n",
    "    # extract the power array from each spectrum\n",
    "    psds = [spectrum.power for spectrum in spectrums]\n",
    "    \n",
    "    # compute the root mean power (which is like an amplitude)\n",
    "    hs = np.sqrt(sum(psds) / len(psds))\n",
    "    fs = next(iter(spectrums)).fs\n",
    "    \n",
    "    # make a Spectrum with the mean amplitudes\n",
    "    spectrum = Spectrum(hs, fs, wave.framerate)\n",
    "    return spectrum"
   ]
  },
  {
   "cell_type": "code",
   "execution_count": 20,
   "metadata": {},
   "outputs": [
    {
     "data": {
      "text/plain": [
       "32769"
      ]
     },
     "execution_count": 20,
     "metadata": {},
     "output_type": "execute_result"
    }
   ],
   "source": [
    "spectrum = bartlett_method(wave, seg_length=seg_length, win_flag=False)\n",
    "spectrum.hs[0] = 0 # 把hs裡頻率=0的元素的值設為 0。\n",
    "len(spectrum)"
   ]
  },
  {
   "cell_type": "markdown",
   "metadata": {},
   "source": [
    "它很接近於直線，在最高頻率處有一些曲率。"
   ]
  },
  {
   "cell_type": "code",
   "execution_count": 21,
   "metadata": {},
   "outputs": [
    {
     "data": {
      "image/png": "[encoded data removed]",
      "text/plain": [
       "<Figure size 432x288 with 1 Axes>"
      ]
     },
     "metadata": {
      "needs_background": "light"
     },
     "output_type": "display_data"
    }
   ],
   "source": [
    "spectrum.plot_power()\n",
    "decorate(xlabel='Frequency (Hz)',\n",
    "         **loglog)"
   ]
  },
  {
   "cell_type": "markdown",
   "metadata": {},
   "source": [
    "斜率接近-1。"
   ]
  },
  {
   "cell_type": "code",
   "execution_count": 22,
   "metadata": {},
   "outputs": [
    {
     "data": {
      "text/plain": [
       "-1.0014185367441042"
      ]
     },
     "execution_count": 22,
     "metadata": {},
     "output_type": "execute_result"
    }
   ],
   "source": [
    "spectrum.estimate_slope().slope"
   ]
  }
 ],
 "metadata": {
  "kernelspec": {
   "display_name": "Python 3",
   "language": "python",
   "name": "python3"
  },
  "language_info": {
   "codemirror_mode": {
    "name": "ipython",
    "version": 3
   },
   "file_extension": ".py",
   "mimetype": "text/x-python",
   "name": "python",
   "nbconvert_exporter": "python",
   "pygments_lexer": "ipython3",
   "version": "3.7.6"
  }
 },
 "nbformat": 4,
 "nbformat_minor": 4
}
