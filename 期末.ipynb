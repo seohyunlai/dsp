{
 "cells": [
  {
   "cell_type": "code",
   "execution_count": 1,
   "metadata": {},
   "outputs": [],
   "source": [
    "import numpy as np\n",
    "import matplotlib.pyplot as plt\n",
    "\n",
    "from thinkdsp import decorate\n",
    "PI2 = 2 * np.pi"
   ]
  },
  {
   "cell_type": "code",
   "execution_count": 2,
   "metadata": {},
   "outputs": [],
   "source": [
    "def synthesis_matrix(N):\n",
    "    ts = np.arange(N) / N\n",
    "    freqs = np.arange(N)\n",
    "    args = np.outer(ts, freqs)\n",
    "    M = np.exp(1j * PI2 * args)\n",
    "    return M"
   ]
  },
  {
   "cell_type": "code",
   "execution_count": 3,
   "metadata": {},
   "outputs": [],
   "source": [
    "def dft(ys):\n",
    "    N = len(ys)\n",
    "    M = synthesis_matrix(N)\n",
    "    amps = M.conj().transpose().dot(ys)\n",
    "    return amps"
   ]
  },
  {
   "cell_type": "code",
   "execution_count": 4,
   "metadata": {},
   "outputs": [
    {
     "data": {
      "text/plain": [
       "array([1.+0.j, 1.+0.j, 1.+0.j, 1.+0.j, 1.+0.j, 1.+0.j, 1.+0.j, 1.+0.j])"
      ]
     },
     "execution_count": 4,
     "metadata": {},
     "output_type": "execute_result"
    }
   ],
   "source": [
    "# 1-(a)\n",
    "x1=[1,0,0,0,0,0,0,0]\n",
    "dft(x1)"
   ]
  },
  {
   "cell_type": "code",
   "execution_count": 5,
   "metadata": {},
   "outputs": [
    {
     "data": {
      "text/plain": [
       "array([ 8.00000000e+00+0.00000000e+00j, -5.55111512e-16+2.22044605e-16j,\n",
       "       -4.28626380e-16-4.44089210e-16j, -2.22044605e-16+8.88178420e-16j,\n",
       "        0.00000000e+00-4.89858720e-16j, -2.10942375e-15-1.22124533e-15j,\n",
       "       -2.93296835e-15-6.66133815e-16j,  3.55271368e-15+1.11022302e-15j])"
      ]
     },
     "execution_count": 5,
     "metadata": {},
     "output_type": "execute_result"
    }
   ],
   "source": [
    "# 1-(b)\n",
    "x2=[1,1,1,1,1,1,1,1]\n",
    "dft(x2)"
   ]
  },
  {
   "cell_type": "code",
   "execution_count": 6,
   "metadata": {},
   "outputs": [
    {
     "data": {
      "text/plain": [
       "array([ 0.00000000e+00+0.00000000e+00j,  1.11022302e-16-1.11022302e-16j,\n",
       "        9.55594723e-17-1.11022302e-16j,  8.88178420e-16-1.55431223e-15j,\n",
       "        8.00000000e+00+3.42901104e-15j, -2.66453526e-15+1.11022302e-16j,\n",
       "        2.93296835e-15-6.66133815e-16j, -5.21804822e-15-2.66453526e-15j])"
      ]
     },
     "execution_count": 6,
     "metadata": {},
     "output_type": "execute_result"
    }
   ],
   "source": [
    "# 1-(c)\n",
    "x3=[1,-1,1,-1,1,-1,1,-1]\n",
    "dft(x3)"
   ]
  },
  {
   "cell_type": "code",
   "execution_count": 7,
   "metadata": {},
   "outputs": [
    {
     "data": {
      "text/plain": [
       "array([9.+0.00000000e+00j, 1.-4.44089210e-16j, 1.-4.89858720e-16j,\n",
       "       1.-6.66133815e-16j, 9.+2.93915232e-15j, 1.-1.33226763e-15j,\n",
       "       1.-1.46957616e-15j, 1.-1.77635684e-15j])"
      ]
     },
     "execution_count": 7,
     "metadata": {},
     "output_type": "execute_result"
    }
   ],
   "source": [
    "# 1-(d)\n",
    "x4=[3,0,2,0,2,0,2,0]\n",
    "dft(x4)"
   ]
  },
  {
   "cell_type": "code",
   "execution_count": 8,
   "metadata": {},
   "outputs": [
    {
     "data": {
      "text/plain": [
       "array([2.+0.0000000e+00j, 1.-1.0000000e+00j, 0.-1.2246468e-16j,\n",
       "       1.+1.0000000e+00j])"
      ]
     },
     "execution_count": 8,
     "metadata": {},
     "output_type": "execute_result"
    }
   ],
   "source": [
    "# 1-(g)\n",
    "x7=[1,1,0,0]\n",
    "dft(x7)"
   ]
  },
  {
   "cell_type": "code",
   "execution_count": 9,
   "metadata": {},
   "outputs": [
    {
     "data": {
      "text/plain": [
       "array([2.        +0.00000000e+00j, 1.70710678-7.07106781e-01j,\n",
       "       1.        -1.00000000e+00j, 0.29289322-7.07106781e-01j,\n",
       "       0.        -1.22464680e-16j, 0.29289322+7.07106781e-01j,\n",
       "       1.        +1.00000000e+00j, 1.70710678+7.07106781e-01j])"
      ]
     },
     "execution_count": 9,
     "metadata": {},
     "output_type": "execute_result"
    }
   ],
   "source": [
    "# 1-(g)\n",
    "x8=[1,1,0,0,0,0,0,0]\n",
    "dft(x8)"
   ]
  },
  {
   "cell_type": "code",
   "execution_count": 10,
   "metadata": {},
   "outputs": [
    {
     "data": {
      "text/plain": [
       "array([1., 2., 2., 2.])"
      ]
     },
     "execution_count": 10,
     "metadata": {},
     "output_type": "execute_result"
    }
   ],
   "source": [
    "# 2-(b)-1\n",
    "\n",
    "m= np.arange(4).reshape(1,-1)\n",
    "n= np.arange(4).reshape(-1,1)\n",
    "\n",
    "x= np.array([1,1,1,1])\n",
    "w= np.array([1,1])\n",
    "x=np.concatenate((x,np.zeros(3)))\n",
    "w=np.concatenate((w,np.zeros(3)))\n",
    "\n",
    "h1= (x[m]*w[n-m]).sum(axis=1)\n",
    "h1"
   ]
  },
  {
   "cell_type": "code",
   "execution_count": 11,
   "metadata": {},
   "outputs": [
    {
     "data": {
      "text/plain": [
       "array([1, 2, 2, 2, 1])"
      ]
     },
     "execution_count": 11,
     "metadata": {},
     "output_type": "execute_result"
    }
   ],
   "source": [
    "# 2-(b)-2\n",
    "x= np.array([1,1,1,1])\n",
    "w= np.array([1,1])\n",
    "np.convolve(x,w)"
   ]
  },
  {
   "cell_type": "code",
   "execution_count": 12,
   "metadata": {},
   "outputs": [
    {
     "data": {
      "text/plain": [
       "array([ 4.00000000e+00+0.00000000e+00j, -1.83697020e-16-2.22044605e-16j,\n",
       "        0.00000000e+00-2.44929360e-16j,  3.29046455e-16-3.33066907e-16j])"
      ]
     },
     "execution_count": 12,
     "metadata": {},
     "output_type": "execute_result"
    }
   ],
   "source": [
    "# 2-(c)\n",
    "xn=[1,1,1,1]\n",
    "dft(xn)"
   ]
  },
  {
   "cell_type": "code",
   "execution_count": 13,
   "metadata": {},
   "outputs": [
    {
     "data": {
      "text/plain": [
       "array([2.+0.0000000e+00j, 0.-1.2246468e-16j])"
      ]
     },
     "execution_count": 13,
     "metadata": {},
     "output_type": "execute_result"
    }
   ],
   "source": [
    "# 2-(c)\n",
    "wn=[1,1]\n",
    "dft(wn)"
   ]
  },
  {
   "cell_type": "code",
   "execution_count": 14,
   "metadata": {},
   "outputs": [
    {
     "data": {
      "text/plain": [
       "array([ 7.+0.00000000e+00j, -1.-4.44089210e-16j, -1.-4.89858720e-16j,\n",
       "       -1.-6.66133815e-16j])"
      ]
     },
     "execution_count": 14,
     "metadata": {},
     "output_type": "execute_result"
    }
   ],
   "source": [
    "# 2-(c)\n",
    "yn=[1,2,2,2]\n",
    "dft(yn)"
   ]
  },
  {
   "cell_type": "code",
   "execution_count": 15,
   "metadata": {},
   "outputs": [
    {
     "data": {
      "text/plain": [
       "array([7.+0.j, 7.+0.j, 7.+0.j, 7.+0.j])"
      ]
     },
     "execution_count": 15,
     "metadata": {},
     "output_type": "execute_result"
    }
   ],
   "source": [
    "# 2-(c)\n",
    "\n",
    "np.fft.ifft(np.fft.fft(xn)*np.fft.fft(yn))"
   ]
  },
  {
   "cell_type": "code",
   "execution_count": 16,
   "metadata": {},
   "outputs": [
    {
     "data": {
      "text/plain": [
       "896"
      ]
     },
     "execution_count": 16,
     "metadata": {},
     "output_type": "execute_result"
    }
   ],
   "source": [
    "import pandas as pd\n",
    "\n",
    "df = pd.read_csv('FB.csv', header=0, parse_dates=[0])\n",
    "len(df)"
   ]
  },
  {
   "cell_type": "code",
   "execution_count": 17,
   "metadata": {},
   "outputs": [
    {
     "data": {
      "text/plain": [
       "896"
      ]
     },
     "execution_count": 17,
     "metadata": {},
     "output_type": "execute_result"
    }
   ],
   "source": [
    "from thinkdsp import Wave\n",
    "\n",
    "ys = df['Close']\n",
    "\n",
    "# for these examples, we need the wave to have \n",
    "# an even number of samples\n",
    "if len(ys) % 2:\n",
    "    ys = ys[:-1]\n",
    "\n",
    "close = Wave(ys, framerate=1)\n",
    "len(close)"
   ]
  },
  {
   "cell_type": "code",
   "execution_count": 18,
   "metadata": {},
   "outputs": [],
   "source": [
    "from thinkdsp import zero_pad\n",
    "\n",
    "def make_filter(window, wave):\n",
    "\n",
    "    padded = zero_pad(window, len(wave))\n",
    "    window_wave = Wave(padded, framerate=wave.framerate)\n",
    "    window_spectrum = window_wave.make_spectrum()\n",
    "    return window_spectrum"
   ]
  },
  {
   "cell_type": "code",
   "execution_count": 19,
   "metadata": {},
   "outputs": [
    {
     "data": {
      "image/png": "[encoded data removed]",
      "text/plain": [
       "<Figure size 432x288 with 1 Axes>"
      ]
     },
     "metadata": {
      "needs_background": "light"
     },
     "output_type": "display_data"
    }
   ],
   "source": [
    "diff_window = np.array([1,1,0,0,0,0,0,1])\n",
    "diff_filter = make_filter(diff_window, close)\n",
    "diff_filter.plot()\n",
    "decorate(xlabel='Frequency (1/day)', ylabel='Amplitude ratio')"
   ]
  },
  {
   "cell_type": "code",
   "execution_count": null,
   "metadata": {},
   "outputs": [],
   "source": []
  }
 ],
 "metadata": {
  "kernelspec": {
   "display_name": "Python 3",
   "language": "python",
   "name": "python3"
  },
  "language_info": {
   "codemirror_mode": {
    "name": "ipython",
    "version": 3
   },
   "file_extension": ".py",
   "mimetype": "text/x-python",
   "name": "python",
   "nbconvert_exporter": "python",
   "pygments_lexer": "ipython3",
   "version": "3.7.6"
  }
 },
 "nbformat": 4,
 "nbformat_minor": 4
}
