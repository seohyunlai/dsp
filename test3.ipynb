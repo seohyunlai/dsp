{
 "cells": [
  {
   "cell_type": "code",
   "execution_count": 5,
   "metadata": {},
   "outputs": [],
   "source": [
    "import numpy as np\n",
    "import matplotlib.pyplot as plt\n",
    "\n",
    "from thinkdsp import decorate"
   ]
  },
  {
   "cell_type": "markdown",
   "metadata": {},
   "source": [
    "3.1"
   ]
  },
  {
   "cell_type": "code",
   "execution_count": 6,
   "metadata": {},
   "outputs": [
    {
     "data": {
      "text/html": [
       "<div>\n",
       "<style scoped>\n",
       "    .dataframe tbody tr th:only-of-type {\n",
       "        vertical-align: middle;\n",
       "    }\n",
       "\n",
       "    .dataframe tbody tr th {\n",
       "        vertical-align: top;\n",
       "    }\n",
       "\n",
       "    .dataframe thead th {\n",
       "        text-align: right;\n",
       "    }\n",
       "</style>\n",
       "<table border=\"1\" class=\"dataframe\">\n",
       "  <thead>\n",
       "    <tr style=\"text-align: right;\">\n",
       "      <th></th>\n",
       "      <th>Date</th>\n",
       "      <th>Open</th>\n",
       "      <th>High</th>\n",
       "      <th>Low</th>\n",
       "      <th>Close</th>\n",
       "      <th>Adj Close</th>\n",
       "      <th>Volume</th>\n",
       "    </tr>\n",
       "  </thead>\n",
       "  <tbody>\n",
       "    <tr>\n",
       "      <th>0</th>\n",
       "      <td>1982/5/5</td>\n",
       "      <td>117.849998</td>\n",
       "      <td>118.050003</td>\n",
       "      <td>117.309998</td>\n",
       "      <td>117.669998</td>\n",
       "      <td>117.669998</td>\n",
       "      <td>58860000</td>\n",
       "    </tr>\n",
       "    <tr>\n",
       "      <th>1</th>\n",
       "      <td>1982/5/6</td>\n",
       "      <td>118.820000</td>\n",
       "      <td>118.830002</td>\n",
       "      <td>117.680000</td>\n",
       "      <td>118.680000</td>\n",
       "      <td>118.680000</td>\n",
       "      <td>67540000</td>\n",
       "    </tr>\n",
       "    <tr>\n",
       "      <th>2</th>\n",
       "      <td>1982/5/7</td>\n",
       "      <td>119.080002</td>\n",
       "      <td>119.889999</td>\n",
       "      <td>118.709999</td>\n",
       "      <td>119.470001</td>\n",
       "      <td>119.470001</td>\n",
       "      <td>67130000</td>\n",
       "    </tr>\n",
       "    <tr>\n",
       "      <th>3</th>\n",
       "      <td>1982/5/10</td>\n",
       "      <td>119.080002</td>\n",
       "      <td>119.489998</td>\n",
       "      <td>118.370003</td>\n",
       "      <td>118.379997</td>\n",
       "      <td>118.379997</td>\n",
       "      <td>46300000</td>\n",
       "    </tr>\n",
       "    <tr>\n",
       "      <th>4</th>\n",
       "      <td>1982/5/11</td>\n",
       "      <td>118.540001</td>\n",
       "      <td>119.589996</td>\n",
       "      <td>118.320000</td>\n",
       "      <td>119.419998</td>\n",
       "      <td>119.419998</td>\n",
       "      <td>54680000</td>\n",
       "    </tr>\n",
       "    <tr>\n",
       "      <th>...</th>\n",
       "      <td>...</td>\n",
       "      <td>...</td>\n",
       "      <td>...</td>\n",
       "      <td>...</td>\n",
       "      <td>...</td>\n",
       "      <td>...</td>\n",
       "      <td>...</td>\n",
       "    </tr>\n",
       "    <tr>\n",
       "      <th>9576</th>\n",
       "      <td>2020/4/28</td>\n",
       "      <td>2909.959961</td>\n",
       "      <td>2921.149902</td>\n",
       "      <td>2860.709961</td>\n",
       "      <td>2863.389893</td>\n",
       "      <td>2863.389893</td>\n",
       "      <td>5672880000</td>\n",
       "    </tr>\n",
       "    <tr>\n",
       "      <th>9577</th>\n",
       "      <td>2020/4/29</td>\n",
       "      <td>2918.459961</td>\n",
       "      <td>2954.860107</td>\n",
       "      <td>2912.159912</td>\n",
       "      <td>2939.510010</td>\n",
       "      <td>2939.510010</td>\n",
       "      <td>6620140000</td>\n",
       "    </tr>\n",
       "    <tr>\n",
       "      <th>9578</th>\n",
       "      <td>2020/4/30</td>\n",
       "      <td>2930.909912</td>\n",
       "      <td>2930.909912</td>\n",
       "      <td>2892.469971</td>\n",
       "      <td>2912.429932</td>\n",
       "      <td>2912.429932</td>\n",
       "      <td>6523120000</td>\n",
       "    </tr>\n",
       "    <tr>\n",
       "      <th>9579</th>\n",
       "      <td>2020/5/1</td>\n",
       "      <td>2869.090088</td>\n",
       "      <td>2869.090088</td>\n",
       "      <td>2821.610107</td>\n",
       "      <td>2830.709961</td>\n",
       "      <td>2830.709961</td>\n",
       "      <td>4753160000</td>\n",
       "    </tr>\n",
       "    <tr>\n",
       "      <th>9580</th>\n",
       "      <td>2020/5/4</td>\n",
       "      <td>2815.010010</td>\n",
       "      <td>2844.239990</td>\n",
       "      <td>2797.850098</td>\n",
       "      <td>2842.739990</td>\n",
       "      <td>2842.739990</td>\n",
       "      <td>4723140000</td>\n",
       "    </tr>\n",
       "  </tbody>\n",
       "</table>\n",
       "<p>9581 rows × 7 columns</p>\n",
       "</div>"
      ],
      "text/plain": [
       "           Date         Open         High          Low        Close  \\\n",
       "0      1982/5/5   117.849998   118.050003   117.309998   117.669998   \n",
       "1      1982/5/6   118.820000   118.830002   117.680000   118.680000   \n",
       "2      1982/5/7   119.080002   119.889999   118.709999   119.470001   \n",
       "3     1982/5/10   119.080002   119.489998   118.370003   118.379997   \n",
       "4     1982/5/11   118.540001   119.589996   118.320000   119.419998   \n",
       "...         ...          ...          ...          ...          ...   \n",
       "9576  2020/4/28  2909.959961  2921.149902  2860.709961  2863.389893   \n",
       "9577  2020/4/29  2918.459961  2954.860107  2912.159912  2939.510010   \n",
       "9578  2020/4/30  2930.909912  2930.909912  2892.469971  2912.429932   \n",
       "9579   2020/5/1  2869.090088  2869.090088  2821.610107  2830.709961   \n",
       "9580   2020/5/4  2815.010010  2844.239990  2797.850098  2842.739990   \n",
       "\n",
       "        Adj Close      Volume  \n",
       "0      117.669998    58860000  \n",
       "1      118.680000    67540000  \n",
       "2      119.470001    67130000  \n",
       "3      118.379997    46300000  \n",
       "4      119.419998    54680000  \n",
       "...           ...         ...  \n",
       "9576  2863.389893  5672880000  \n",
       "9577  2939.510010  6620140000  \n",
       "9578  2912.429932  6523120000  \n",
       "9579  2830.709961  4753160000  \n",
       "9580  2842.739990  4723140000  \n",
       "\n",
       "[9581 rows x 7 columns]"
      ]
     },
     "execution_count": 6,
     "metadata": {},
     "output_type": "execute_result"
    }
   ],
   "source": [
    "import pandas as pd\n",
    "\n",
    "df = pd.read_csv('text3333.csv')\n",
    "df"
   ]
  },
  {
   "cell_type": "markdown",
   "metadata": {},
   "source": [
    "3.2"
   ]
  },
  {
   "cell_type": "code",
   "execution_count": 7,
   "metadata": {},
   "outputs": [
    {
     "data": {
      "text/plain": [
       "(        Date        Open        High         Low       Close   Adj Close  \\\n",
       " 0   1982/5/5  117.849998  118.050003  117.309998  117.669998  117.669998   \n",
       " 1   1982/5/6  118.820000  118.830002  117.680000  118.680000  118.680000   \n",
       " 2   1982/5/7  119.080002  119.889999  118.709999  119.470001  119.470001   \n",
       " 3  1982/5/10  119.080002  119.489998  118.370003  118.379997  118.379997   \n",
       " 4  1982/5/11  118.540001  119.589996  118.320000  119.419998  119.419998   \n",
       " \n",
       "      Volume  \n",
       " 0  58860000  \n",
       " 1  67540000  \n",
       " 2  67130000  \n",
       " 3  46300000  \n",
       " 4  54680000  ,\n",
       "            Date         Open         High          Low        Close  \\\n",
       " 9576  2020/4/28  2909.959961  2921.149902  2860.709961  2863.389893   \n",
       " 9577  2020/4/29  2918.459961  2954.860107  2912.159912  2939.510010   \n",
       " 9578  2020/4/30  2930.909912  2930.909912  2892.469971  2912.429932   \n",
       " 9579   2020/5/1  2869.090088  2869.090088  2821.610107  2830.709961   \n",
       " 9580   2020/5/4  2815.010010  2844.239990  2797.850098  2842.739990   \n",
       " \n",
       "         Adj Close      Volume  \n",
       " 9576  2863.389893  5672880000  \n",
       " 9577  2939.510010  6620140000  \n",
       " 9578  2912.429932  6523120000  \n",
       " 9579  2830.709961  4753160000  \n",
       " 9580  2842.739990  4723140000  )"
      ]
     },
     "execution_count": 7,
     "metadata": {},
     "output_type": "execute_result"
    }
   ],
   "source": [
    "df = pd.read_csv('text3333.csv')\n",
    "\n",
    "arr=(df[0:5] ,df[9576:9581])\n",
    "arr"
   ]
  },
  {
   "cell_type": "markdown",
   "metadata": {},
   "source": [
    "列數為10，行數為7"
   ]
  },
  {
   "cell_type": "markdown",
   "metadata": {},
   "source": [
    "3.3"
   ]
  },
  {
   "cell_type": "code",
   "execution_count": 8,
   "metadata": {},
   "outputs": [
    {
     "data": {
      "text/plain": [
       "0        117.669998\n",
       "1        118.680000\n",
       "2        119.470001\n",
       "3        118.379997\n",
       "4        119.419998\n",
       "           ...     \n",
       "9576    2863.389893\n",
       "9577    2939.510010\n",
       "9578    2912.429932\n",
       "9579    2830.709961\n",
       "9580    2842.739990\n",
       "Name: Close, Length: 9581, dtype: float64"
      ]
     },
     "execution_count": 8,
     "metadata": {},
     "output_type": "execute_result"
    }
   ],
   "source": [
    "from thinkdsp import Wave\n",
    "ys=df['Close'] # 令ys為df中的Close整行\n",
    "array=ys # 把ys的值給array\n",
    "array #看array結果"
   ]
  },
  {
   "cell_type": "code",
   "execution_count": 9,
   "metadata": {},
   "outputs": [
    {
     "data": {
      "image/png": "[encoded data removed]",
      "text/plain": [
       "<Figure size 432x288 with 1 Axes>"
      ]
     },
     "metadata": {
      "needs_background": "light"
     },
     "output_type": "display_data"
    }
   ],
   "source": [
    "ts=array.index #ts為索引，表示0到9580。\n",
    "wave = Wave(array,ts)\n",
    "wave.plot() # 畫出波型"
   ]
  },
  {
   "cell_type": "code",
   "execution_count": 10,
   "metadata": {},
   "outputs": [
    {
     "data": {
      "image/png": "[encoded data removed]",
      "text/plain": [
       "<Figure size 432x288 with 1 Axes>"
      ]
     },
     "metadata": {
      "needs_background": "light"
     },
     "output_type": "display_data"
    }
   ],
   "source": [
    "ys=ys[-5000:] # 取近5000筆資料\n",
    "ts=ys.index  #ts為索引。\n",
    "wave = Wave(ys,ts)\n",
    "wave.plot() #畫出近5000筆資料的波型圖"
   ]
  },
  {
   "cell_type": "markdown",
   "metadata": {},
   "source": [
    "3-4"
   ]
  },
  {
   "cell_type": "markdown",
   "metadata": {},
   "source": [
    "畫出取log後的頻譜圖，因為如果沒有取log，會因為數值相近而看不清楚結果"
   ]
  },
  {
   "cell_type": "code",
   "execution_count": 13,
   "metadata": {},
   "outputs": [
    {
     "data": {
      "image/png": "[encoded data removed]",
      "text/plain": [
       "<Figure size 432x288 with 1 Axes>"
      ]
     },
     "metadata": {
      "needs_background": "light"
     },
     "output_type": "display_data"
    }
   ],
   "source": [
    "spectrum = wave.make_spectrum()\n",
    "spectrum.plot_power() # 使用plot_power，表示為power\n",
    "loglog = dict(xscale='log', yscale='log')\n",
    "decorate( **loglog)"
   ]
  },
  {
   "cell_type": "markdown",
   "metadata": {},
   "source": [
    "寫出估算斜率。"
   ]
  },
  {
   "cell_type": "code",
   "execution_count": 15,
   "metadata": {},
   "outputs": [
    {
     "data": {
      "text/plain": [
       "-1.7725262104170667"
      ]
     },
     "execution_count": 15,
     "metadata": {},
     "output_type": "execute_result"
    }
   ],
   "source": [
    "spectrum.estimate_slope().slope"
   ]
  },
  {
   "cell_type": "markdown",
   "metadata": {},
   "source": [
    "從中可以發現斜率為-1.7。如果是紅色噪聲，它的斜率應為-2，但離粉紅色噪聲又有些距離，所以它應該是介於紅色跟粉色噪音之間。"
   ]
  }
 ],
 "metadata": {
  "kernelspec": {
   "display_name": "Python 3",
   "language": "python",
   "name": "python3"
  },
  "language_info": {
   "codemirror_mode": {
    "name": "ipython",
    "version": 3
   },
   "file_extension": ".py",
   "mimetype": "text/x-python",
   "name": "python",
   "nbconvert_exporter": "python",
   "pygments_lexer": "ipython3",
   "version": "3.7.6"
  }
 },
 "nbformat": 4,
 "nbformat_minor": 4
}
