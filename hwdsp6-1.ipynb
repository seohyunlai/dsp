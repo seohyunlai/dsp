{
 "cells": [
  {
   "cell_type": "markdown",
   "metadata": {},
   "source": [
    "Exercise 1 \n",
    "In this chapter I claim that analyze1 takes time proportional to n3 and analyze2 takes time proportional to n2. To see if that’s true, run them on a range of input sizes and time them. In Jupyter, you can use the “magic command” %timeit.\n",
    "If you plot run time versus input size on a log-log scale, you should get a straight line with slope 3 for analyze1 and slope 2 for analyze2.\n",
    "You also might want to test dct_iv and scipy.fftpack.dct.\n",
    "\n",
    "在本章中，我聲稱analyst1花費的時間與n3成正比，analyze2花費的時間與n2成比例。要查看是否正確，請在各種輸入大小上運行它們併計時。在Jupyter中，您可以使用“魔術命令”％timeit。\n",
    "如果在對數對數標度上繪製運行時間與輸入大小的關係，則應該獲得一條直線，其中analyzer1的斜率為3，analyzer2的斜率為2。\n",
    "您可能還需要測試dct_iv和scipy.fftpack.dct。"
   ]
  },
  {
   "cell_type": "code",
   "execution_count": 1,
   "metadata": {},
   "outputs": [],
   "source": [
    "\n",
    "from __future__ import print_function, division\n",
    "\n",
    "import thinkdsp\n",
    "import thinkplot\n",
    "import thinkstats2\n",
    "\n",
    "import numpy as np\n",
    "import scipy.fftpack\n",
    "\n",
    "import warnings\n",
    "warnings.filterwarnings('ignore')\n",
    "\n",
    "import dct\n",
    "\n",
    "#%matplotlib inline"
   ]
  },
  {
   "cell_type": "code",
   "execution_count": 2,
   "metadata": {},
   "outputs": [
    {
     "data": {
      "text/plain": [
       "(16384,)"
      ]
     },
     "execution_count": 2,
     "metadata": {},
     "output_type": "execute_result"
    }
   ],
   "source": [
    "signal = thinkdsp.UncorrelatedGaussianNoise()\n",
    "noise = signal.make_wave(duration=1.0, framerate=16384)\n",
    "noise.ys.shape"
   ]
  },
  {
   "cell_type": "code",
   "execution_count": 3,
   "metadata": {},
   "outputs": [
    {
     "data": {
      "text/plain": [
       "array([   64,   128,   256,   512,  1024,  2048,  4096,  8192, 16384],\n",
       "      dtype=int32)"
      ]
     },
     "execution_count": 3,
     "metadata": {},
     "output_type": "execute_result"
    }
   ],
   "source": [
    "\n",
    "ns = 2 ** np.arange(6, 15)\n",
    "ns"
   ]
  },
  {
   "cell_type": "code",
   "execution_count": 4,
   "metadata": {},
   "outputs": [],
   "source": [
    "\n",
    "def plot_bests(bests):    \n",
    "    thinkplot.plot(ns, bests)\n",
    "    thinkplot.config(xscale='log', yscale='log', legend=False)\n",
    "    \n",
    "    x = np.log(ns)\n",
    "    y = np.log(bests)\n",
    "    t = scipy.stats.linregress(x,y)\n",
    "    slope = t[0]\n",
    "\n",
    "    return slope"
   ]
  },
  {
   "cell_type": "markdown",
   "metadata": {},
   "source": [
    "analyze1的結果。"
   ]
  },
  {
   "cell_type": "code",
   "execution_count": 5,
   "metadata": {},
   "outputs": [
    {
     "name": "stdout",
     "output_type": "stream",
     "text": [
      "64\n",
      "128 µs ± 0 ns per loop (mean ± std. dev. of 1 run, 10000 loops each)\n",
      "128\n",
      "363 µs ± 0 ns per loop (mean ± std. dev. of 1 run, 1000 loops each)\n",
      "256\n",
      "1.75 ms ± 0 ns per loop (mean ± std. dev. of 1 run, 1000 loops each)\n",
      "512\n",
      "13.7 ms ± 0 ns per loop (mean ± std. dev. of 1 run, 100 loops each)\n",
      "1024\n",
      "67.7 ms ± 0 ns per loop (mean ± std. dev. of 1 run, 10 loops each)\n",
      "2048\n",
      "352 ms ± 0 ns per loop (mean ± std. dev. of 1 run, 1 loop each)\n",
      "4096\n",
      "1.43 s ± 0 ns per loop (mean ± std. dev. of 1 run, 1 loop each)\n",
      "8192\n",
      "6.11 s ± 0 ns per loop (mean ± std. dev. of 1 run, 1 loop each)\n",
      "16384\n",
      "45.6 s ± 0 ns per loop (mean ± std. dev. of 1 run, 1 loop each)\n"
     ]
    },
    {
     "data": {
      "text/plain": [
       "2.332592180842974"
      ]
     },
     "execution_count": 5,
     "metadata": {},
     "output_type": "execute_result"
    },
    {
     "data": {
      "image/png": "[encoded data removed]",
      "text/plain": [
       "<Figure size 432x288 with 1 Axes>"
      ]
     },
     "metadata": {
      "needs_background": "light"
     },
     "output_type": "display_data"
    }
   ],
   "source": [
    "results = []\n",
    "for N in ns:\n",
    "    print(N)\n",
    "    ts = (0.5 + np.arange(N)) / N\n",
    "    freqs = (0.5 + np.arange(N)) / 2\n",
    "    ys = noise.ys[:N]\n",
    "    result = %timeit -r1 -o dct.analyze1(ys, freqs, ts)\n",
    "    results.append(result)\n",
    "\n",
    "bests = [result.best for result in results]\n",
    "plot_bests(bests)"
   ]
  },
  {
   "cell_type": "markdown",
   "metadata": {},
   "source": [
    "估計的斜率接近2，而不是預期的3。一種可能性是，在此數組大小範圍內，np.linalg.solve的性能幾乎是平方的。\n",
    "該線是彎曲的，這表明我們尚未達到運行時顯示三次增長的數組大小。隨著陣列尺寸的增加，估計的斜率會增加，因此也許最終會收斂於3。"
   ]
  },
  {
   "cell_type": "markdown",
   "metadata": {},
   "source": [
    "analyze2的結果。"
   ]
  },
  {
   "cell_type": "code",
   "execution_count": 6,
   "metadata": {},
   "outputs": [
    {
     "name": "stdout",
     "output_type": "stream",
     "text": [
      "59 µs ± 0 ns per loop (mean ± std. dev. of 1 run, 10000 loops each)\n",
      "304 µs ± 0 ns per loop (mean ± std. dev. of 1 run, 1000 loops each)\n",
      "1.52 ms ± 0 ns per loop (mean ± std. dev. of 1 run, 1000 loops each)\n",
      "7.92 ms ± 0 ns per loop (mean ± std. dev. of 1 run, 100 loops each)\n",
      "26.1 ms ± 0 ns per loop (mean ± std. dev. of 1 run, 10 loops each)\n",
      "148 ms ± 0 ns per loop (mean ± std. dev. of 1 run, 10 loops each)\n",
      "424 ms ± 0 ns per loop (mean ± std. dev. of 1 run, 1 loop each)\n",
      "1.45 s ± 0 ns per loop (mean ± std. dev. of 1 run, 1 loop each)\n",
      "5.52 s ± 0 ns per loop (mean ± std. dev. of 1 run, 1 loop each)\n"
     ]
    },
    {
     "data": {
      "text/plain": [
       "2.0531986987840694"
      ]
     },
     "execution_count": 6,
     "metadata": {},
     "output_type": "execute_result"
    },
    {
     "data": {
      "image/png": "[encoded data removed]",
      "text/plain": [
       "<Figure size 432x288 with 1 Axes>"
      ]
     },
     "metadata": {
      "needs_background": "light"
     },
     "output_type": "display_data"
    }
   ],
   "source": [
    "results = []\n",
    "for N in ns:\n",
    "    ts = (0.5 + np.arange(N)) / N\n",
    "    freqs = (0.5 + np.arange(N)) / 2\n",
    "    ys = noise.ys[:N]\n",
    "    result = %timeit -r1 -o dct.analyze2(ys, freqs, ts)\n",
    "    results.append(result)\n",
    "\n",
    "bests2 = [result.best for result in results]\n",
    "plot_bests(bests2)"
   ]
  },
  {
   "cell_type": "markdown",
   "metadata": {},
   "source": [
    "如預期的那樣，analyze2的結果呈一條直線，估計斜率接近2。"
   ]
  },
  {
   "cell_type": "markdown",
   "metadata": {},
   "source": [
    "scipy.fftpack.dct的結果。"
   ]
  },
  {
   "cell_type": "code",
   "execution_count": 7,
   "metadata": {},
   "outputs": [
    {
     "name": "stdout",
     "output_type": "stream",
     "text": [
      "6.27 µs ± 137 ns per loop (mean ± std. dev. of 7 runs, 100000 loops each)\n",
      "6.72 µs ± 313 ns per loop (mean ± std. dev. of 7 runs, 100000 loops each)\n",
      "7.68 µs ± 560 ns per loop (mean ± std. dev. of 7 runs, 100000 loops each)\n",
      "8.91 µs ± 258 ns per loop (mean ± std. dev. of 7 runs, 100000 loops each)\n",
      "12.8 µs ± 375 ns per loop (mean ± std. dev. of 7 runs, 100000 loops each)\n",
      "18.9 µs ± 607 ns per loop (mean ± std. dev. of 7 runs, 100000 loops each)\n",
      "34 µs ± 254 ns per loop (mean ± std. dev. of 7 runs, 10000 loops each)\n",
      "71.1 µs ± 1.04 µs per loop (mean ± std. dev. of 7 runs, 10000 loops each)\n",
      "133 µs ± 3.26 µs per loop (mean ± std. dev. of 7 runs, 10000 loops each)\n"
     ]
    },
    {
     "data": {
      "text/plain": [
       "0.5589023828451706"
      ]
     },
     "execution_count": 7,
     "metadata": {},
     "output_type": "execute_result"
    },
    {
     "data": {
      "image/png": "[encoded data removed]",
      "text/plain": [
       "<Figure size 432x288 with 1 Axes>"
      ]
     },
     "metadata": {
      "needs_background": "light"
     },
     "output_type": "display_data"
    }
   ],
   "source": [
    "results = []\n",
    "for N in ns:\n",
    "    ys = noise.ys[:N]\n",
    "    result = %timeit -o scipy.fftpack.dct(ys, type=3)\n",
    "    results.append(result)\n",
    "\n",
    "bests3 = [result.best for result in results]\n",
    "plot_bests(bests3)"
   ]
  },
  {
   "cell_type": "markdown",
   "metadata": {},
   "source": [
    "dct的這種實現甚至更快。這條線是彎曲的，這意味著要么我們還沒有看到漸近行為，要么漸近行為不是n的簡單指數。實際上，我們很快就會看到，運行時間與nlogn成正比。"
   ]
  },
  {
   "cell_type": "markdown",
   "metadata": {},
   "source": [
    "下圖顯示了相同軸上的所有三個曲線。"
   ]
  },
  {
   "cell_type": "code",
   "execution_count": 8,
   "metadata": {},
   "outputs": [
    {
     "data": {
      "image/png": "[encoded data removed]",
      "text/plain": [
       "<Figure size 432x288 with 1 Axes>"
      ]
     },
     "metadata": {
      "needs_background": "light"
     },
     "output_type": "display_data"
    }
   ],
   "source": [
    "thinkplot.preplot(3)\n",
    "thinkplot.plot(ns, bests, label='analyze1')\n",
    "thinkplot.plot(ns, bests2, label='analyze2')\n",
    "thinkplot.plot(ns, bests3, label='fftpack.dct')\n",
    "thinkplot.config(xscale='log', yscale='log', legend=True, loc='upper left')"
   ]
  },
  {
   "cell_type": "code",
   "execution_count": null,
   "metadata": {},
   "outputs": [],
   "source": []
  }
 ],
 "metadata": {
  "kernelspec": {
   "display_name": "Python 3",
   "language": "python",
   "name": "python3"
  },
  "language_info": {
   "codemirror_mode": {
    "name": "ipython",
    "version": 3
   },
   "file_extension": ".py",
   "mimetype": "text/x-python",
   "name": "python",
   "nbconvert_exporter": "python",
   "pygments_lexer": "ipython3",
   "version": "3.7.6"
  }
 },
 "nbformat": 4,
 "nbformat_minor": 4
}
