{
 "cells": [
  {
   "cell_type": "markdown",
   "metadata": {},
   "source": [
    "Exercise 3\n",
    "At http://www.coindesk.com you can download the daily price of a BitCoin as a CSV file. Read this file and compute the spectrum of BitCoin prices as a function of time. Does it resemble white, pink, or Brownian noise?\n",
    "\n",
    "閱讀此文件，併計算隨時間變化的比特幣價格範圍。它類似於白色、粉紅色或布朗的噪聲嗎？"
   ]
  },
  {
   "cell_type": "code",
   "execution_count": 1,
   "metadata": {},
   "outputs": [],
   "source": [
    "import numpy as np\n",
    "import matplotlib.pyplot as plt\n",
    "\n",
    "from thinkdsp import decorate"
   ]
  },
  {
   "cell_type": "markdown",
   "metadata": {},
   "source": [
    "引進比特幣表格。"
   ]
  },
  {
   "cell_type": "code",
   "execution_count": 2,
   "metadata": {},
   "outputs": [
    {
     "data": {
      "text/html": [
       "<div>\n",
       "<style scoped>\n",
       "    .dataframe tbody tr th:only-of-type {\n",
       "        vertical-align: middle;\n",
       "    }\n",
       "\n",
       "    .dataframe tbody tr th {\n",
       "        vertical-align: top;\n",
       "    }\n",
       "\n",
       "    .dataframe thead th {\n",
       "        text-align: right;\n",
       "    }\n",
       "</style>\n",
       "<table border=\"1\" class=\"dataframe\">\n",
       "  <thead>\n",
       "    <tr style=\"text-align: right;\">\n",
       "      <th></th>\n",
       "      <th>Currency</th>\n",
       "      <th>Date</th>\n",
       "      <th>Closing Price (USD)</th>\n",
       "      <th>24h Open (USD)</th>\n",
       "      <th>24h High (USD)</th>\n",
       "      <th>24h Low (USD)</th>\n",
       "    </tr>\n",
       "  </thead>\n",
       "  <tbody>\n",
       "    <tr>\n",
       "      <th>0</th>\n",
       "      <td>BTC</td>\n",
       "      <td>2013-10-01</td>\n",
       "      <td>123.654990</td>\n",
       "      <td>124.304660</td>\n",
       "      <td>124.751660</td>\n",
       "      <td>122.563490</td>\n",
       "    </tr>\n",
       "    <tr>\n",
       "      <th>1</th>\n",
       "      <td>BTC</td>\n",
       "      <td>2013-10-02</td>\n",
       "      <td>125.455000</td>\n",
       "      <td>123.654990</td>\n",
       "      <td>125.758500</td>\n",
       "      <td>123.633830</td>\n",
       "    </tr>\n",
       "    <tr>\n",
       "      <th>2</th>\n",
       "      <td>BTC</td>\n",
       "      <td>2013-10-03</td>\n",
       "      <td>108.584830</td>\n",
       "      <td>125.455000</td>\n",
       "      <td>125.665660</td>\n",
       "      <td>83.328330</td>\n",
       "    </tr>\n",
       "    <tr>\n",
       "      <th>3</th>\n",
       "      <td>BTC</td>\n",
       "      <td>2013-10-04</td>\n",
       "      <td>118.674660</td>\n",
       "      <td>108.584830</td>\n",
       "      <td>118.675000</td>\n",
       "      <td>107.058160</td>\n",
       "    </tr>\n",
       "    <tr>\n",
       "      <th>4</th>\n",
       "      <td>BTC</td>\n",
       "      <td>2013-10-05</td>\n",
       "      <td>121.338660</td>\n",
       "      <td>118.674660</td>\n",
       "      <td>121.936330</td>\n",
       "      <td>118.005660</td>\n",
       "    </tr>\n",
       "    <tr>\n",
       "      <th>...</th>\n",
       "      <td>...</td>\n",
       "      <td>...</td>\n",
       "      <td>...</td>\n",
       "      <td>...</td>\n",
       "      <td>...</td>\n",
       "      <td>...</td>\n",
       "    </tr>\n",
       "    <tr>\n",
       "      <th>2354</th>\n",
       "      <td>BTC</td>\n",
       "      <td>2020-03-22</td>\n",
       "      <td>5884.340133</td>\n",
       "      <td>6187.042146</td>\n",
       "      <td>6431.873162</td>\n",
       "      <td>5802.553402</td>\n",
       "    </tr>\n",
       "    <tr>\n",
       "      <th>2355</th>\n",
       "      <td>BTC</td>\n",
       "      <td>2020-03-23</td>\n",
       "      <td>6455.454688</td>\n",
       "      <td>5829.352511</td>\n",
       "      <td>6620.858253</td>\n",
       "      <td>5694.198299</td>\n",
       "    </tr>\n",
       "    <tr>\n",
       "      <th>2356</th>\n",
       "      <td>BTC</td>\n",
       "      <td>2020-03-24</td>\n",
       "      <td>6784.318011</td>\n",
       "      <td>6455.450650</td>\n",
       "      <td>6863.602196</td>\n",
       "      <td>6406.037439</td>\n",
       "    </tr>\n",
       "    <tr>\n",
       "      <th>2357</th>\n",
       "      <td>BTC</td>\n",
       "      <td>2020-03-25</td>\n",
       "      <td>6706.985089</td>\n",
       "      <td>6784.325204</td>\n",
       "      <td>6981.720386</td>\n",
       "      <td>6488.111885</td>\n",
       "    </tr>\n",
       "    <tr>\n",
       "      <th>2358</th>\n",
       "      <td>BTC</td>\n",
       "      <td>2020-03-26</td>\n",
       "      <td>6721.495392</td>\n",
       "      <td>6697.948320</td>\n",
       "      <td>6796.053701</td>\n",
       "      <td>6537.856462</td>\n",
       "    </tr>\n",
       "  </tbody>\n",
       "</table>\n",
       "<p>2359 rows × 6 columns</p>\n",
       "</div>"
      ],
      "text/plain": [
       "     Currency        Date  Closing Price (USD)  24h Open (USD)  \\\n",
       "0         BTC  2013-10-01           123.654990      124.304660   \n",
       "1         BTC  2013-10-02           125.455000      123.654990   \n",
       "2         BTC  2013-10-03           108.584830      125.455000   \n",
       "3         BTC  2013-10-04           118.674660      108.584830   \n",
       "4         BTC  2013-10-05           121.338660      118.674660   \n",
       "...       ...         ...                  ...             ...   \n",
       "2354      BTC  2020-03-22          5884.340133     6187.042146   \n",
       "2355      BTC  2020-03-23          6455.454688     5829.352511   \n",
       "2356      BTC  2020-03-24          6784.318011     6455.450650   \n",
       "2357      BTC  2020-03-25          6706.985089     6784.325204   \n",
       "2358      BTC  2020-03-26          6721.495392     6697.948320   \n",
       "\n",
       "      24h High (USD)  24h Low (USD)  \n",
       "0         124.751660     122.563490  \n",
       "1         125.758500     123.633830  \n",
       "2         125.665660      83.328330  \n",
       "3         118.675000     107.058160  \n",
       "4         121.936330     118.005660  \n",
       "...              ...            ...  \n",
       "2354     6431.873162    5802.553402  \n",
       "2355     6620.858253    5694.198299  \n",
       "2356     6863.602196    6406.037439  \n",
       "2357     6981.720386    6488.111885  \n",
       "2358     6796.053701    6537.856462  \n",
       "\n",
       "[2359 rows x 6 columns]"
      ]
     },
     "execution_count": 2,
     "metadata": {},
     "output_type": "execute_result"
    }
   ],
   "source": [
    "import pandas as pd\n",
    "\n",
    "df = pd.read_csv('BTC_USD_2013-10-01_2020-03-26-CoinDesk.csv', \n",
    "                 parse_dates=[0])\n",
    "df"
   ]
  },
  {
   "cell_type": "markdown",
   "metadata": {},
   "source": []
  },
  {
   "cell_type": "markdown",
   "metadata": {},
   "source": [
    "ys為Closing Price (USD)全部。\n",
    "ts為索引，表示0到2358。"
   ]
  },
  {
   "cell_type": "code",
   "execution_count": 3,
   "metadata": {},
   "outputs": [],
   "source": [
    "ys = df['Closing Price (USD)']\n",
    "ts = df.index"
   ]
  },
  {
   "cell_type": "markdown",
   "metadata": {},
   "source": []
  },
  {
   "cell_type": "markdown",
   "metadata": {},
   "source": [
    "ys代表wave陣列。\n",
    "ts代表時間的陣列。\n",
    "framerate代表每秒樣本。"
   ]
  },
  {
   "cell_type": "code",
   "execution_count": 4,
   "metadata": {},
   "outputs": [
    {
     "data": {
      "image/png": "[encoded data removed]",
      "text/plain": [
       "<Figure size 432x288 with 1 Axes>"
      ]
     },
     "metadata": {
      "needs_background": "light"
     },
     "output_type": "display_data"
    }
   ],
   "source": [
    "from thinkdsp import Wave\n",
    "\n",
    "wave = Wave(ys, ts, framerate=1) #ys、ts沒指定範圍表示全部，framerate每秒樣本1\n",
    "wave.plot() #畫圖\n",
    "decorate(xlabel='Time (days)') # x軸為時間(天)"
   ]
  },
  {
   "cell_type": "markdown",
   "metadata": {},
   "source": [
    "可知大約在time=1500時，有最高點。"
   ]
  },
  {
   "cell_type": "markdown",
   "metadata": {},
   "source": []
  },
  {
   "cell_type": "markdown",
   "metadata": {},
   "source": [
    "畫出比特幣錶的spectrum，並將它變為log-log，可看出較明顯變化。"
   ]
  },
  {
   "cell_type": "code",
   "execution_count": 5,
   "metadata": {},
   "outputs": [
    {
     "data": {
      "image/png": "[encoded data removed]",
      "text/plain": [
       "<Figure size 432x288 with 1 Axes>"
      ]
     },
     "metadata": {
      "needs_background": "light"
     },
     "output_type": "display_data"
    }
   ],
   "source": [
    "spectrum = wave.make_spectrum()\n",
    "spectrum.plot_power(high=0.02) # 使用plot_power，表示為power\n",
    "decorate(xlabel='Frequency (1/days)') # x軸為Frequency (1/days)"
   ]
  },
  {
   "cell_type": "markdown",
   "metadata": {},
   "source": [
    "上圖為尚未log時的圖，可看出它幾乎集中在0~0.1間，因此我將它放大到為0~0.002間，但變化還是很難看出來。"
   ]
  },
  {
   "cell_type": "markdown",
   "metadata": {},
   "source": [
    "因此將它變成log-log。"
   ]
  },
  {
   "cell_type": "code",
   "execution_count": 6,
   "metadata": {},
   "outputs": [
    {
     "data": {
      "image/png": "[encoded data removed]",
      "text/plain": [
       "<Figure size 432x288 with 1 Axes>"
      ]
     },
     "metadata": {
      "needs_background": "light"
     },
     "output_type": "display_data"
    }
   ],
   "source": [
    "spectrum = wave.make_spectrum()\n",
    "spectrum.plot_power() # 使用plot_power，表示為power\n",
    "loglog = dict(xscale='log', yscale='log')\n",
    "decorate(xlabel='Frequency (1/days)', **loglog) # x軸為Frequency (1/days)"
   ]
  },
  {
   "cell_type": "markdown",
   "metadata": {},
   "source": [
    "上圖為log-log的結果，可以很明顯看出呈現遞減的狀況，10^-1附近很集中，中間有些參差不齊。"
   ]
  },
  {
   "cell_type": "markdown",
   "metadata": {},
   "source": []
  },
  {
   "cell_type": "markdown",
   "metadata": {},
   "source": [
    "估算斜率。"
   ]
  },
  {
   "cell_type": "code",
   "execution_count": 7,
   "metadata": {},
   "outputs": [
    {
     "data": {
      "text/plain": [
       "-1.733254093675893"
      ]
     },
     "execution_count": 7,
     "metadata": {},
     "output_type": "execute_result"
    }
   ],
   "source": [
    "spectrum.estimate_slope()[0]"
   ]
  },
  {
   "cell_type": "markdown",
   "metadata": {},
   "source": []
  },
  {
   "cell_type": "markdown",
   "metadata": {},
   "source": [
    "紅色噪聲的斜率應為-2。該PSD的斜率接近1.7，因此很難說我是否將它視為紅色噪聲(red noise)，還是說它是一種粉紅色噪聲(pink noise)。"
   ]
  }
 ],
 "metadata": {
  "kernelspec": {
   "display_name": "Python 3",
   "language": "python",
   "name": "python3"
  },
  "language_info": {
   "codemirror_mode": {
    "name": "ipython",
    "version": 3
   },
   "file_extension": ".py",
   "mimetype": "text/x-python",
   "name": "python",
   "nbconvert_exporter": "python",
   "pygments_lexer": "ipython3",
   "version": "3.7.6"
  }
 },
 "nbformat": 4,
 "nbformat_minor": 4
}
