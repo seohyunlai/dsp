{
 "cells": [
  {
   "cell_type": "markdown",
   "metadata": {},
   "source": [
    "Exercise 1 \n",
    "In this chapter I claim that analyze1 takes time proportional to n3 and analyze2 takes time proportional to n2. To see if that’s true, run them on a range of input sizes and time them. In Jupyter, you can use the “magic command” %timeit.\n",
    "If you plot run time versus input size on a log-log scale, you should get a straight line with slope 3 for analyze1 and slope 2 for analyze2.\n",
    "You also might want to test dct_iv and scipy.fftpack.dct.\n",
    "在本章中，我聲稱analyzer1花費的時間與n3成正比，analyze2花的時間與n2成正比。要查看是否正確，請在一系列輸入大小上運行它們併計時。在Jupyter中，您可以使用“魔術命令”％timeit。\n",
    "如果在對數對數標度上繪製運行時間與輸入大小的關係，則應該獲得一條直線，其中analyzer1的斜率為3，analyze2為斜率2。\n",
    "您可能還需要測試dct_iv和scipy.fftpack.dct。"
   ]
  },
  {
   "cell_type": "code",
   "execution_count": 7,
   "metadata": {},
   "outputs": [],
   "source": [
    "import numpy as np\n",
    "import matplotlib.pyplot as plt\n",
    "\n",
    "from thinkdsp import decorate"
   ]
  },
  {
   "cell_type": "markdown",
   "metadata": {},
   "source": [
    "我將從噪聲信號和2的冪次方數組開始"
   ]
  },
  {
   "cell_type": "code",
   "execution_count": 8,
   "metadata": {},
   "outputs": [
    {
     "data": {
      "text/plain": [
       "(16384,)"
      ]
     },
     "execution_count": 8,
     "metadata": {},
     "output_type": "execute_result"
    }
   ],
   "source": [
    "from thinkdsp import UncorrelatedGaussianNoise\n",
    "\n",
    "signal = UncorrelatedGaussianNoise()\n",
    "noise = signal.make_wave(duration=1.0, framerate=16384)\n",
    "noise.ys.shape"
   ]
  },
  {
   "cell_type": "markdown",
   "metadata": {},
   "source": [
    "以下函數從時序實驗中獲取一系列結果，繪製結果並擬合一條直線。"
   ]
  },
  {
   "cell_type": "code",
   "execution_count": 9,
   "metadata": {},
   "outputs": [],
   "source": [
    "from scipy.stats import linregress\n",
    "\n",
    "loglog = dict(xscale='log', yscale='log') # 取loglog對數\n",
    "\n",
    "def plot_bests(ns, bests):    \n",
    "    plt.plot(ns, bests)\n",
    "    decorate(**loglog)\n",
    "    \n",
    "    x = np.log(ns)\n",
    "    y = np.log(bests)\n",
    "    t = linregress(x,y)\n",
    "    slope = t[0]\n",
    "\n",
    "    return slope"
   ]
  },
  {
   "cell_type": "markdown",
   "metadata": {},
   "source": [
    "分析餘弦和返回幅度的混合。\n",
    "適用於M不正交的一般情況"
   ]
  },
  {
   "cell_type": "code",
   "execution_count": 10,
   "metadata": {},
   "outputs": [],
   "source": [
    "PI2 = np.pi * 2\n",
    "\n",
    "def analyze1(ys, fs, ts):\n",
    "\n",
    "    args = np.outer(ts, fs)\n",
    "    M = np.cos(PI2 * args)\n",
    "    amps = np.linalg.solve(M, ys)\n",
    "    return amps # 回傳振福"
   ]
  },
  {
   "cell_type": "code",
   "execution_count": 11,
   "metadata": {},
   "outputs": [],
   "source": [
    "def run_speed_test(ns, func):\n",
    "    results = []\n",
    "    for N in ns:\n",
    "        print(N)\n",
    "        ts = (0.5 + np.arange(N)) / N\n",
    "        freqs = (0.5 + np.arange(N)) / 2\n",
    "        ys = noise.ys[:N]\n",
    "        result = %timeit -r1 -o func(ys, freqs, ts)\n",
    "        results.append(result)\n",
    "        \n",
    "    bests = [result.best for result in results]\n",
    "    return bests"
   ]
  },
  {
   "cell_type": "markdown",
   "metadata": {},
   "source": [
    "analyze1的結果。"
   ]
  },
  {
   "cell_type": "code",
   "execution_count": 12,
   "metadata": {},
   "outputs": [
    {
     "data": {
      "text/plain": [
       "array([  64,  128,  256,  512, 1024, 2048, 4096], dtype=int32)"
      ]
     },
     "execution_count": 12,
     "metadata": {},
     "output_type": "execute_result"
    }
   ],
   "source": [
    "ns = 2 ** np.arange(6, 13)\n",
    "ns"
   ]
  },
  {
   "cell_type": "code",
   "execution_count": 13,
   "metadata": {},
   "outputs": [
    {
     "name": "stdout",
     "output_type": "stream",
     "text": [
      "64\n",
      "268 µs ± 0 ns per loop (mean ± std. dev. of 1 run, 1000 loops each)\n",
      "128\n",
      "823 µs ± 0 ns per loop (mean ± std. dev. of 1 run, 1000 loops each)\n",
      "256\n",
      "4.62 ms ± 0 ns per loop (mean ± std. dev. of 1 run, 100 loops each)\n",
      "512\n",
      "20.7 ms ± 0 ns per loop (mean ± std. dev. of 1 run, 100 loops each)\n",
      "1024\n",
      "94.2 ms ± 0 ns per loop (mean ± std. dev. of 1 run, 10 loops each)\n",
      "2048\n",
      "403 ms ± 0 ns per loop (mean ± std. dev. of 1 run, 1 loop each)\n",
      "4096\n",
      "1.68 s ± 0 ns per loop (mean ± std. dev. of 1 run, 1 loop each)\n"
     ]
    },
    {
     "data": {
      "text/plain": [
       "2.145682103879955"
      ]
     },
     "execution_count": 13,
     "metadata": {},
     "output_type": "execute_result"
    },
    {
     "data": {
      "image/png": "[encoded data removed]",
      "text/plain": [
       "<Figure size 432x288 with 1 Axes>"
      ]
     },
     "metadata": {
      "needs_background": "light"
     },
     "output_type": "display_data"
    }
   ],
   "source": [
    "bests = run_speed_test(ns, analyze1)\n",
    "plot_bests(ns, bests)"
   ]
  },
  {
   "cell_type": "markdown",
   "metadata": {},
   "source": [
    "估計的斜率接近2，而不是預期的3。一種可能性是，在此陣列大小範圍內，np.linalg.solve的性能幾乎是平方的。"
   ]
  },
  {
   "cell_type": "markdown",
   "metadata": {},
   "source": [
    "analyze2的結果。"
   ]
  },
  {
   "cell_type": "code",
   "execution_count": 14,
   "metadata": {},
   "outputs": [],
   "source": [
    "def analyze2(ys, fs, ts):\n",
    "\n",
    "    args = np.outer(ts, fs)\n",
    "    M = np.cos(PI2 * args)\n",
    "    amps = np.dot(M, ys) / 2\n",
    "    return amps"
   ]
  },
  {
   "cell_type": "code",
   "execution_count": 15,
   "metadata": {},
   "outputs": [
    {
     "name": "stdout",
     "output_type": "stream",
     "text": [
      "64\n",
      "132 µs ± 0 ns per loop (mean ± std. dev. of 1 run, 10000 loops each)\n",
      "128\n",
      "415 µs ± 0 ns per loop (mean ± std. dev. of 1 run, 1000 loops each)\n",
      "256\n",
      "2.55 ms ± 0 ns per loop (mean ± std. dev. of 1 run, 100 loops each)\n",
      "512\n",
      "12.4 ms ± 0 ns per loop (mean ± std. dev. of 1 run, 100 loops each)\n",
      "1024\n",
      "48.1 ms ± 0 ns per loop (mean ± std. dev. of 1 run, 10 loops each)\n",
      "2048\n",
      "205 ms ± 0 ns per loop (mean ± std. dev. of 1 run, 10 loops each)\n",
      "4096\n",
      "772 ms ± 0 ns per loop (mean ± std. dev. of 1 run, 1 loop each)\n"
     ]
    },
    {
     "data": {
      "text/plain": [
       "2.1306936222550137"
      ]
     },
     "execution_count": 15,
     "metadata": {},
     "output_type": "execute_result"
    },
    {
     "data": {
      "image/png": "[encoded data removed]",
      "text/plain": [
       "<Figure size 432x288 with 1 Axes>"
      ]
     },
     "metadata": {
      "needs_background": "light"
     },
     "output_type": "display_data"
    }
   ],
   "source": [
    "bests2 = run_speed_test(ns, analyze2)\n",
    "plot_bests(ns, bests2)"
   ]
  },
  {
   "cell_type": "markdown",
   "metadata": {},
   "source": [
    "如預期的那樣，analyze2的結果呈一條直線，估計斜率接近於2。"
   ]
  },
  {
   "cell_type": "markdown",
   "metadata": {},
   "source": [
    "scipy.fftpack.dct的結果"
   ]
  },
  {
   "cell_type": "code",
   "execution_count": 16,
   "metadata": {},
   "outputs": [],
   "source": [
    "import scipy.fftpack\n",
    "\n",
    "def scipy_dct(ys, freqs, ts):\n",
    "    return scipy.fftpack.dct(ys, type=3)"
   ]
  },
  {
   "cell_type": "code",
   "execution_count": 17,
   "metadata": {},
   "outputs": [
    {
     "name": "stdout",
     "output_type": "stream",
     "text": [
      "64\n",
      "15 µs ± 0 ns per loop (mean ± std. dev. of 1 run, 100000 loops each)\n",
      "128\n",
      "16.3 µs ± 0 ns per loop (mean ± std. dev. of 1 run, 100000 loops each)\n",
      "256\n",
      "17.7 µs ± 0 ns per loop (mean ± std. dev. of 1 run, 100000 loops each)\n",
      "512\n",
      "21.3 µs ± 0 ns per loop (mean ± std. dev. of 1 run, 10000 loops each)\n",
      "1024\n",
      "33.4 µs ± 0 ns per loop (mean ± std. dev. of 1 run, 10000 loops each)\n",
      "2048\n",
      "44.5 µs ± 0 ns per loop (mean ± std. dev. of 1 run, 10000 loops each)\n",
      "4096\n",
      "81.7 µs ± 0 ns per loop (mean ± std. dev. of 1 run, 10000 loops each)\n"
     ]
    },
    {
     "data": {
      "text/plain": [
       "0.3978986518995551"
      ]
     },
     "execution_count": 17,
     "metadata": {},
     "output_type": "execute_result"
    },
    {
     "data": {
      "image/png": "[encoded data removed]",
      "text/plain": [
       "<Figure size 432x288 with 1 Axes>"
      ]
     },
     "metadata": {
      "needs_background": "light"
     },
     "output_type": "display_data"
    }
   ],
   "source": [
    "bests3 = run_speed_test(ns, scipy_dct)\n",
    "plot_bests(ns, bests3)"
   ]
  },
  {
   "cell_type": "markdown",
   "metadata": {},
   "source": [
    "dct的這種實現甚至更快。這條線是彎曲的，這意味著要么我們還沒有看到過漸近行為，要么漸進行為不是simple的簡單指數。實際上，正如我們很快將看到的，運行時間與𝑛log𝑛成正比。"
   ]
  },
  {
   "cell_type": "markdown",
   "metadata": {},
   "source": [
    "下面的圖將三個結合"
   ]
  },
  {
   "cell_type": "code",
   "execution_count": 18,
   "metadata": {},
   "outputs": [
    {
     "data": {
      "image/png": "[encoded data removed]",
      "text/plain": [
       "<Figure size 432x288 with 1 Axes>"
      ]
     },
     "metadata": {
      "needs_background": "light"
     },
     "output_type": "display_data"
    }
   ],
   "source": [
    "plt.plot(ns, bests, label='analyze1')\n",
    "plt.plot(ns, bests2, label='analyze2')\n",
    "plt.plot(ns, bests3, label='fftpack.dct')\n",
    "decorate(xlabel='Wave length (N)', ylabel='Time (s)', **loglog)"
   ]
  },
  {
   "cell_type": "code",
   "execution_count": null,
   "metadata": {},
   "outputs": [],
   "source": []
  }
 ],
 "metadata": {
  "kernelspec": {
   "display_name": "Python 3",
   "language": "python",
   "name": "python3"
  },
  "language_info": {
   "codemirror_mode": {
    "name": "ipython",
    "version": 3
   },
   "file_extension": ".py",
   "mimetype": "text/x-python",
   "name": "python",
   "nbconvert_exporter": "python",
   "pygments_lexer": "ipython3",
   "version": "3.7.6"
  }
 },
 "nbformat": 4,
 "nbformat_minor": 4
}
